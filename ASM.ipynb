{
 "cells": [
  {
   "cell_type": "code",
   "execution_count": 13,
   "id": "ca544f46",
   "metadata": {},
   "outputs": [
    {
     "name": "stdout",
     "output_type": "stream",
     "text": [
      "\n",
      "================= QUẢN LÝ NHÂN SỰ =================\n",
      "1. Nhập danh sách nhân viên\n",
      "2. Xuất danh sách nhân viên\n",
      "3. Tìm nhân viên theo mã\n",
      "4. Xóa nhân viên theo mã\n",
      "5. Cập nhật thông tin nhân viên\n",
      "6. Tìm nhân viên theo khoảng lương\n",
      "7. Sắp xếp nhân viên theo họ và tên\n",
      "8. Sắp xếp nhân viên theo thu nhập\n",
      "9. Xuất 5 nhân viên có thu nhập cao nhất\n",
      "10. Lưu danh sách nhân viên vào file CSV\n",
      "11. Đọc danh sách nhân viên từ file CSV\n",
      "0. Thoát\n",
      "===================================================\n",
      "\n"
     ]
    },
    {
     "ename": "AttributeError",
     "evalue": "module 'quanlynhanvien' has no attribute 'luu_file'",
     "output_type": "error",
     "traceback": [
      "\u001b[31m---------------------------------------------------------------------------\u001b[39m",
      "\u001b[31mAttributeError\u001b[39m                            Traceback (most recent call last)",
      "\u001b[36mCell\u001b[39m\u001b[36m \u001b[39m\u001b[32mIn[13]\u001b[39m\u001b[32m, line 34\u001b[39m\n\u001b[32m     32\u001b[39m \u001b[38;5;28;01mcase\u001b[39;00m \u001b[33m'\u001b[39m\u001b[33m8\u001b[39m\u001b[33m'\u001b[39m: ql.sap_xep_theo_thu_nhap()\n\u001b[32m     33\u001b[39m \u001b[38;5;28;01mcase\u001b[39;00m \u001b[33m'\u001b[39m\u001b[33m9\u001b[39m\u001b[33m'\u001b[39m: ql.top5_thu_nhap()\n\u001b[32m---> \u001b[39m\u001b[32m34\u001b[39m \u001b[38;5;28;01mcase\u001b[39;00m \u001b[33m'\u001b[39m\u001b[33m10\u001b[39m\u001b[33m'\u001b[39m: ql.luu_file()\n\u001b[32m     35\u001b[39m \u001b[38;5;28;01mcase\u001b[39;00m \u001b[33m'\u001b[39m\u001b[33m11\u001b[39m\u001b[33m'\u001b[39m: ql.doc_file()\n\u001b[32m     36\u001b[39m \u001b[38;5;28;01mcase\u001b[39;00m \u001b[33m'\u001b[39m\u001b[33m0\u001b[39m\u001b[33m'\u001b[39m:\n",
      "\u001b[31mAttributeError\u001b[39m: module 'quanlynhanvien' has no attribute 'luu_file'"
     ]
    }
   ],
   "source": [
    "\n",
    "\n",
    "import quanlynhanvien as ql\n",
    "\n",
    "\n",
    "menu = '''\n",
    "================= QUẢN LÝ NHÂN SỰ =================\n",
    "1. Nhập danh sách nhân viên\n",
    "2. Xuất danh sách nhân viên\n",
    "3. Tìm nhân viên theo mã\n",
    "4. Xóa nhân viên theo mã\n",
    "5. Cập nhật thông tin nhân viên\n",
    "6. Tìm nhân viên theo khoảng lương\n",
    "7. Sắp xếp nhân viên theo họ và tên\n",
    "8. Sắp xếp nhân viên theo thu nhập\n",
    "9. Xuất 5 nhân viên có thu nhập cao nhất\n",
    "10. Lưu danh sách nhân viên vào file CSV\n",
    "11. Đọc danh sách nhân viên từ file CSV\n",
    "0. Thoát\n",
    "===================================================\n",
    "'''\n",
    "\n",
    "while True:\n",
    "    print(menu)\n",
    "    lua_chon = input(\"Mời bạn chọn: \")\n",
    "    match lua_chon:\n",
    "        case '1': ql.nhap_nhan_vien()\n",
    "        case '2': ql.xuat_danh_sach()\n",
    "        case '3': ql.tim_theo_ma()\n",
    "        case '4': ql.xoa_theo_ma()\n",
    "        case '5': ql.cap_nhat_theo_ma()\n",
    "        case '6': ql.tim_theo_khoang_luong()\n",
    "        case '7': ql.sap_xep_theo_ten()\n",
    "        case '8': ql.sap_xep_theo_thu_nhap()\n",
    "        case '9': ql.top5_thu_nhap()\n",
    "        case '10': ql.luu_file()\n",
    "        case '11': ql.doc_file()\n",
    "        case '0':\n",
    "            print(\"==> Thoát chương trình. Tạm biệt!\")\n",
    "            break\n",
    "        case _:\n",
    "            print(\"==> Lựa chọn không hợp lệ, vui lòng chọn lại!\")\n"
   ]
  }
 ],
 "metadata": {
  "kernelspec": {
   "display_name": "Python 3",
   "language": "python",
   "name": "python3"
  },
  "language_info": {
   "codemirror_mode": {
    "name": "ipython",
    "version": 3
   },
   "file_extension": ".py",
   "mimetype": "text/x-python",
   "name": "python",
   "nbconvert_exporter": "python",
   "pygments_lexer": "ipython3",
   "version": "3.13.8"
  }
 },
 "nbformat": 4,
 "nbformat_minor": 5
}
