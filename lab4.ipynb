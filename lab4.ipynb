{
 "cells": [
  {
   "cell_type": "markdown",
   "id": "fdeff819",
   "metadata": {},
   "source": [
    "# Sinh Viên thực hiện Lab 4 ở Đây"
   ]
  },
  {
   "cell_type": "markdown",
   "id": "acc5d7dc",
   "metadata": {},
   "source": [
    "## Lab 1 - Bài 1"
   ]
  },
  {
   "cell_type": "code",
   "execution_count": null,
   "id": "001e0507",
   "metadata": {},
   "outputs": [
    {
     "name": "stdout",
     "output_type": "stream",
     "text": [
      "\n",
      "========== MENU ==========\n",
      "1. Tính tiền nước sinh hoạt\n",
      "2. Tính nguyên liệu làm bánh\n",
      "3. Lọc số chẵn trong dãy số\n",
      "4. Thoát\n",
      "==============================\n",
      "Nhap so luong banh dau xanh: \n",
      "Nhap so luong banh thap cam: \n",
      "Nhap so luong banh deo: \n",
      "Số lượng bánh bạn đã nhập:\n",
      "  Bánh đậu xanh: 12 cái\n",
      "  Bánh thập cẩm: 45 cái\n",
      "  Bánh dẻo: 56 cái\n",
      "\n",
      "Số lượng nguyên liệu cần dùng:\n",
      "  Đường: 5.98 kg\n",
      "  Đậu: 1.96 kg\n",
      "\n",
      "========== MENU ==========\n",
      "1. Tính tiền nước sinh hoạt\n",
      "2. Tính nguyên liệu làm bánh\n",
      "3. Lọc số chẵn trong dãy số\n",
      "4. Thoát\n",
      "==============================\n",
      " Kết thúc chương trình.\n"
     ]
    }
   ],
   "source": [
    "# Lab4_main.py\n",
    "import lab4_module\n",
    "\n",
    "menu = {\n",
    "    \"1\": \"Tính tiền nước sinh hoạt\",\n",
    "    \"2\": \"Tính nguyên liệu làm bánh\",\n",
    "    \"3\": \"Lọc số chẵn trong dãy số\",\n",
    "    \"4\": \"Thoát\"\n",
    "}\n",
    "\n",
    "while True:\n",
    "    print(\"\\n\" + \"=\"*10 + \" MENU \" + \"=\"*10)\n",
    "    for k, v in menu.items():\n",
    "        print(f\"{k}. {v}\")\n",
    "    print(\"=\"*30)\n",
    "\n",
    "    lua_chon = input(\"Nhập lựa chọn (1-4): \")\n",
    "\n",
    "    if lua_chon == \"4\":\n",
    "        print(\" Kết thúc chương trình.\")\n",
    "        break\n",
    "\n",
    "    elif lua_chon == \"1\":\n",
    "        print(\"Nhap so nuoc su dung (m3): \", end=\"\")\n",
    "        so_nuoc = float(input())\n",
    "        print(so_nuoc, \"m3\")\n",
    "        print(\"So tien nuoc phai tra: \", lab4_module.tinh_tien_nuoc(so_nuoc), \"VND\")\n",
    "\n",
    "    elif lua_chon == \"2\":\n",
    "        print(\"Nhap so luong banh dau xanh: \")\n",
    "        sl_bdx = int(input())  \n",
    "        print(\"Nhap so luong banh thap cam: \")\n",
    "        sl_btc = int(input())\n",
    "        print(\"Nhap so luong banh deo: \")\n",
    "        sl_bd = int(input())\n",
    "\n",
    "        nguyen_lieu = lab4_module.tinh_nguyen_lieu(sl_bdx, sl_btc, sl_bd)\n",
    "\n",
    "        print(\"Số lượng bánh bạn đã nhập:\")\n",
    "        print(f\"  Bánh đậu xanh: {sl_bdx} cái\")\n",
    "        print(f\"  Bánh thập cẩm: {sl_btc} cái\")\n",
    "        print(f\"  Bánh dẻo: {sl_bd} cái\")\n",
    "\n",
    "        print(\"\\nSố lượng nguyên liệu cần dùng:\")\n",
    "        print(f\"  Đường: {nguyen_lieu['đường']:.2f} kg\")\n",
    "        print(f\"  Đậu: {nguyen_lieu['đậu']:.2f} kg\")\n",
    "\n",
    "    elif lua_chon == \"3\":\n",
    "        lab4_module.loc_so_chan()\n",
    "\n",
    "    else:\n",
    "        print(\"Chỉ được chọn từ 1 đến 4!\")"
   ]
  },
  {
   "cell_type": "markdown",
   "id": "c0835310",
   "metadata": {},
   "source": [
    "## Lab 4 - Bài 2"
   ]
  },
  {
   "cell_type": "code",
   "execution_count": null,
   "id": "51e93f01",
   "metadata": {},
   "outputs": [],
   "source": [
    "#code lab 4 bài 2 ở đây"
   ]
  },
  {
   "cell_type": "markdown",
   "id": "0f2483fe",
   "metadata": {},
   "source": [
    "## Lab 4 - Bài 3"
   ]
  },
  {
   "cell_type": "code",
   "execution_count": null,
   "id": "7034990b",
   "metadata": {},
   "outputs": [],
   "source": [
    "# Code lab 4  bài 3 ở đây"
   ]
  },
  {
   "cell_type": "markdown",
   "id": "d36ea3d3",
   "metadata": {},
   "source": [
    "## Lab 4 - Bài 4"
   ]
  },
  {
   "cell_type": "code",
   "execution_count": null,
   "id": "4c707ec1",
   "metadata": {},
   "outputs": [],
   "source": [
    "# code lab 4 bài 4 ở đây"
   ]
  },
  {
   "cell_type": "markdown",
   "id": "e2b41d4a",
   "metadata": {},
   "source": [
    "## Lab 4 - Bài 5: bài tập làm thêm"
   ]
  },
  {
   "cell_type": "code",
   "execution_count": null,
   "id": "0e0172f7",
   "metadata": {},
   "outputs": [],
   "source": [
    "# code lab 4  bài làm thêm ở đây "
   ]
  }
 ],
 "metadata": {
  "kernelspec": {
   "display_name": "Python 3",
   "language": "python",
   "name": "python3"
  },
  "language_info": {
   "codemirror_mode": {
    "name": "ipython",
    "version": 3
   },
   "file_extension": ".py",
   "mimetype": "text/x-python",
   "name": "python",
   "nbconvert_exporter": "python",
   "pygments_lexer": "ipython3",
   "version": "3.13.7"
  }
 },
 "nbformat": 4,
 "nbformat_minor": 5
}
