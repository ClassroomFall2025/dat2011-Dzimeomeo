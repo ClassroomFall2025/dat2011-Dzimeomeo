{
 "cells": [
  {
   "cell_type": "markdown",
   "id": "fdeff819",
   "metadata": {},
   "source": [
    "# Sinh Viên thực hiện Lab 2 ở Đây"
   ]
  },
  {
   "cell_type": "markdown",
   "id": "acc5d7dc",
   "metadata": {},
   "source": [
    "## Lab 2 - Bài 1"
   ]
  },
  {
   "cell_type": "code",
   "execution_count": 9,
   "id": "001e0507",
   "metadata": {},
   "outputs": [
    {
     "name": "stdout",
     "output_type": "stream",
     "text": [
      "Kiếp con người mong manh như là gió\n",
      "Sống trên đời có được mấy lần vui\n",
      "Sao phải đau mà không thể mỉm cười\n",
      "Gắng buông nỗi ngậm ngùi nơi quá khứ\n",
      "\n",
      "Nếu có thể sao ta không làm thơ\n",
      "Để tâm hồn khắc hai chữ bình an\n",
      "Cho đôi chân bước thanh thản nhẹ nhàng\n",
      "Dù hướng đời có muôn ngàn đá sỏi\n",
      "\n",
      "Vị trí của từ 'con người' trong bài thơ là: 5\n",
      "Từ 'con người' có trong bài thơ không: True\n",
      "Trích xuất từ 'con người' từ bài thơ: CON NGƯỜI\n"
     ]
    }
   ],
   "source": [
    "BaiTho= '''Kiếp con người mong manh như là gió\n",
    "Sống trên đời có được mấy lần vui\n",
    "Sao phải đau mà không thể mỉm cười\n",
    "Gắng buông nỗi ngậm ngùi nơi quá khứ\n",
    "\n",
    "Nếu có thể sao ta không làm thơ\n",
    "Để tâm hồn khắc hai chữ bình an\n",
    "Cho đôi chân bước thanh thản nhẹ nhàng\n",
    "Dù hướng đời có muôn ngàn đá sỏi\n",
    "'''\n",
    "\n",
    "print (BaiTho)\n",
    "\n",
    "ket_qua_tim_kiem = BaiTho.find(\"con người\")\n",
    "print(\"Vị trí của từ 'con người' trong bài thơ là:\", ket_qua_tim_kiem)\n",
    "\n",
    "ket_qua_tim_kiem1 = 'con người' in BaiTho\n",
    "print(\"Từ 'con người' có trong bài thơ không:\", ket_qua_tim_kiem1)\n",
    "\n",
    "index1 = BaiTho.find(\"con người\")\n",
    "index2 = index1 + len(\"con người\")\n",
    "trich_xuat_tu_con_nguoi = BaiTho[index1:index2].upper()\n",
    "print(\"Trích xuất từ 'con người' từ bài thơ:\", trich_xuat_tu_con_nguoi)\n"
   ]
  },
  {
   "cell_type": "markdown",
   "id": "c0835310",
   "metadata": {},
   "source": [
    "## Lab 2 - Bài 2"
   ]
  },
  {
   "cell_type": "code",
   "execution_count": 13,
   "id": "fa9cb39f",
   "metadata": {},
   "outputs": [
    {
     "name": "stdout",
     "output_type": "stream",
     "text": [
      "Bài thơ sau khi thay thế 'bình an' là:\n",
      " Kiếp con người mong manh như là gió\n",
      "Sống trên đời có được mấy lần vui\n",
      "Sao phải đau mà không thể mỉm cười\n",
      "Gắng buông nỗi ngậm ngùi nơi quá khứ\n",
      "\n",
      "Nếu có thể sao ta không làm thơ\n",
      "Để tâm hồn khắc hai chữ hạnh phúc\n",
      "Cho đôi chân bước thanh thản nhẹ nhàng\n",
      "Dù hướng đời có muôn ngàn đá sỏi\n",
      "\n",
      "Bài thơ mới là:\n",
      " \"...\n",
      "Kiếp con người mong manh như là gió\n",
      "Sống trên đời có được mấy lần vui\n",
      "Sao phải đau mà không thể mỉm cười\n",
      "Gắng buông nỗi ngậm ngùi nơi quá khứ\n",
      "\n",
      "Nếu có thể sao ta không làm thơ\n",
      "Để tâm hồn khắc hai chữ hạnh phúc\n",
      "Cho đôi chân bước thanh thản nhẹ nhàng\n",
      "Dù hướng đời có muôn ngàn đá sỏi\n",
      "...\"\n"
     ]
    }
   ],
   "source": [
    "BaiThoSauThayThe = BaiTho.replace(\"bình an\", \"hạnh phúc\")\n",
    "print(\"Bài thơ sau khi thay thế 'bình an' là:\\n\", BaiThoSauThayThe)\n",
    "\n",
    "DongDauBaiTho = '\"...'\n",
    "DongCuoiBaiTho = '...\"'\n",
    "\n",
    "BaiThoMoi = DongDauBaiTho + \"\\n\" + BaiThoSauThayThe + DongCuoiBaiTho\n",
    "print(\"Bài thơ mới là:\\n\",BaiThoMoi)"
   ]
  },
  {
   "cell_type": "markdown",
   "id": "0f2483fe",
   "metadata": {},
   "source": [
    "## Lab 2 - Bài 3"
   ]
  },
  {
   "cell_type": "code",
   "execution_count": 14,
   "id": "7034990b",
   "metadata": {},
   "outputs": [
    {
     "name": "stdout",
     "output_type": "stream",
     "text": [
      "Phương trình có nghiệm x = -1.25\n"
     ]
    }
   ],
   "source": [
    "a = float(input(\"Nhập a: \"))\n",
    "b = float(input(\"Nhập b: \"))\n",
    "\n",
    "if a == 0:\n",
    "    if b == 0:\n",
    "        print(\"Phương trình có vô số nghiệm\")\n",
    "    else:\n",
    "        print(\"Phương trình vô nghiệm\")\n",
    "else:\n",
    "    x = -b / a\n",
    "    print(\"Phương trình có nghiệm x =\", x)\n"
   ]
  },
  {
   "cell_type": "markdown",
   "id": "d36ea3d3",
   "metadata": {},
   "source": [
    "## Lab 2 - Bài 4"
   ]
  },
  {
   "cell_type": "code",
   "execution_count": null,
   "id": "4c707ec1",
   "metadata": {},
   "outputs": [],
   "source": [
    "import math\n",
    "\n",
    "a = float(input(\"Nhập a: \"))\n",
    "b = float(input(\"Nhập b: \"))\n",
    "c = float(input(\"Nhập c: \"))\n",
    "\n",
    "if a == 0:   # khi a=0 thì trở thành bậc 1\n",
    "    if b == 0:\n",
    "        if c == 0:\n",
    "            print(\"Phương trình có vô số nghiệm\")\n",
    "        else:\n",
    "            print(\"Phương trình vô nghiệm\")\n",
    "    else:\n",
    "        x = -c / b\n",
    "        print(\"Phương trình có nghiệm x =\", x)\n",
    "else:\n",
    "    delta = b**2 - 4*a*c\n",
    "    if delta < 0:\n",
    "        print(\"Phương trình vô nghiệm\")\n",
    "    elif delta == 0:\n",
    "        x = -b / (2*a)\n",
    "        print(\"Phương trình có nghiệm kép x1 = x2 =\", x)\n",
    "    else:\n",
    "        x1 = (-b + math.sqrt(delta)) / (2*a)\n",
    "        x2 = (-b - math.sqrt(delta)) / (2*a)\n",
    "        print(\"Phương trình có 2 nghiệm phân biệt: x1 =\", x1, \"và x2 =\", x2)"
   ]
  },
  {
   "cell_type": "markdown",
   "id": "e2b41d4a",
   "metadata": {},
   "source": [
    "## Lab 2 - Bài 5: bài tập làm thêm"
   ]
  },
  {
   "cell_type": "code",
   "execution_count": null,
   "id": "0e0172f7",
   "metadata": {},
   "outputs": [],
   "source": [
    "# 1. Phép tính cơ bản\n",
    "a = float(input(\"Nhập số a: \"))\n",
    "b = float(input(\"Nhập số b: \"))\n",
    "print(\"Cộng:\", a + b)\n",
    "print(\"Trừ:\", a - b)\n",
    "print(\"Nhân:\", a * b)\n",
    "if b != 0:\n",
    "    print(\"Chia:\", a / b)\n",
    "else:\n",
    "    print(\"Không thể chia cho 0\")"
   ]
  },
  {
   "cell_type": "code",
   "execution_count": null,
   "id": "7bb4a246",
   "metadata": {},
   "outputs": [],
   "source": [
    "# 2. Lũy thừa\n",
    "x = float(input(\"Nhập cơ số x: \"))\n",
    "y = float(input(\"Nhập số mũ y: \"))\n",
    "print(\"x^y =\", x ** y)"
   ]
  },
  {
   "cell_type": "code",
   "execution_count": null,
   "metadata": {},
   "outputs": [],
   "source": [
    "# 3. Căn bậc hai\n",
    "n = float(input(\"Nhập số cần tính căn bậc hai: \"))\n",
    "if n >= 0:\n",
    "    print(\"√n =\", math.sqrt(n))\n",
    "else:\n",
    "    print(\"Không tính được căn bậc hai số âm\")"
   ]
  },
  {
   "cell_type": "code",
   "execution_count": null,
   "id": "47ac6585",
   "metadata": {},
   "outputs": [],
   "source": [
    "\n",
    "# 4. Hàm lượng giác\n",
    "goc = float(input(\"Nhập góc (độ): \"))\n",
    "rad = math.radians(goc)  # đổi sang radian\n",
    "print(\"sin =\", math.sin(rad))\n",
    "print(\"cos =\", math.cos(rad))\n",
    "print(\"tan =\", math.tan(rad))"
   ]
  },
  {
   "cell_type": "code",
   "execution_count": null,
   "id": "570225ac",
   "metadata": {},
   "outputs": [],
   "source": [
    "# 5. Logarit\n",
    "m = float(input(\"Nhập số cần tính log: \"))\n",
    "if m > 0:\n",
    "    print(\"log10 =\", math.log10(m))\n",
    "    print(\"ln =\", math.log(m))\n",
    "    co_so = float(input(\"Nhập cơ số log tùy chọn: \"))\n",
    "    if co_so > 0 and co_so != 1:\n",
    "        print(\"log cơ số\", co_so, \"=\", math.log(m, co_so))\n",
    "    else:\n",
    "        print(\"Cơ số log không hợp lệ\")\n",
    "else:\n",
    "    print(\"Không tính được log số <= 0\")"
   ]
  },
  {
   "cell_type": "code",
   "execution_count": null,
   "id": "01178018",
   "metadata": {},
   "outputs": [],
   "source": [
    "# 6. Tìm số lớn nhất trong 3 số\n",
    "so1 = float(input(\"Nhập số thứ nhất: \"))\n",
    "so2 = float(input(\"Nhập số thứ hai: \"))\n",
    "so3 = float(input(\"Nhập số thứ ba: \"))\n",
    "\n",
    "if so1 >= so2 and so1 >= so3:\n",
    "    lon_nhat = so1\n",
    "elif so2 >= so1 and so2 >= so3:\n",
    "    lon_nhat = so2\n",
    "else:\n",
    "    lon_nhat = so3\n",
    "\n",
    "print(\"Số lớn nhất là:\", lon_nhat)"
   ]
  }
 ],
 "metadata": {
  "kernelspec": {
   "display_name": "Python 3",
   "language": "python",
   "name": "python3"
  },
  "language_info": {
   "name": "python",
   "version": "3.13.2"
  }
 },
 "nbformat": 4,
 "nbformat_minor": 5
}
