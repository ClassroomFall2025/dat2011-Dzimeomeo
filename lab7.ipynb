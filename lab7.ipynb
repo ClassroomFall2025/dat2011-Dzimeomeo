{
 "cells": [
  {
   "cell_type": "markdown",
   "id": "fdeff819",
   "metadata": {},
   "source": [
    "# Sinh Viên thực hiện Lab 7 ở Đây"
   ]
  },
  {
   "cell_type": "markdown",
   "id": "acc5d7dc",
   "metadata": {},
   "source": [
    "## Lab 7 - Bài 1"
   ]
  },
  {
   "cell_type": "code",
   "execution_count": 21,
   "id": "001e0507",
   "metadata": {},
   "outputs": [
    {
     "name": "stdout",
     "output_type": "stream",
     "text": [
      "Tự nguyện\n",
      "Trương Quốc Khánh\n",
      "Nếu là chim, tôi sẽ là loài bồ câu trắng\n",
      "Nếu là hoa, tôi sẽ là một đóa hướng dương\n",
      "Nếu là mây, tôi sẽ là một vầng mây ấm\n",
      "Là người, tôi sẽ chết cho quê hương.\n",
      "\n",
      "Là chim, tôi sẽ cất cao đôi cánh mềm\n",
      "Từ nam ra ngoài bắc báo tin nối liền\n",
      "Là hoa, tôi nở tình yêu ban sớm\n",
      "Cùng muôn trái tim ngất ngây hoà bình.\n",
      "\n",
      "Là mây, theo làn gió tung bay khắp trời\n",
      "Nghìn xưa oai hùng đó tôi xin tiếp lời\n",
      "Là người, xin một lần khi nằm xuống\n",
      "Nhìn anh em đứng lên phất cao ngọn cờ.\n",
      "\n",
      "Tên bài thơ: Tự nguyện\n",
      "Tác giả: Trương Quốc Khánh\n"
     ]
    }
   ],
   "source": [
    "try:\n",
    "## Doc Toan Bo Noi Dung Cua File\n",
    "    file = open(\"Resource.txt\", \"r\", encoding=\"utf-8\")\n",
    "    noidung = file.read()\n",
    "    print(noidung)\n",
    "\n",
    "    # Doc ten bai tho\n",
    "    file = open(\"Resource.txt\", \"r\", encoding=\"utf-8\")\n",
    "    dong1 = file.readline()\n",
    "    print(\"\\nTên bài thơ:\", dong1[:9])\n",
    "\n",
    "    #Doc ten tac gia\n",
    "    dong2 = file.readline()\n",
    "    print(\"Tác giả:\", dong2.strip())\n",
    "    \n",
    "    file.close()\n",
    "except FileNotFoundError:\n",
    "    print(\"File không tồn tại\")\n",
    "\n"
   ]
  },
  {
   "cell_type": "markdown",
   "id": "c0835310",
   "metadata": {},
   "source": [
    "## Lab 7 - Bài 2"
   ]
  },
  {
   "cell_type": "code",
   "execution_count": 22,
   "id": "e0179b6f",
   "metadata": {},
   "outputs": [],
   "source": [
    "file = open(\"Lab7-Exercise2.txt\", \"w\", encoding=\"utf-8\")\n",
    "\n",
    "file.write(\"...\\n\")\n",
    "file.write(\"Nếu một mai tôi có bay lên trời\\n\")\n",
    "file.write(\"Thì người ơi tôi đã sống rất thảnh thơi\\n\")\n",
    "file.write(\"Nếu một mai tôi có đi qua đời\\n\")\n",
    "file.write(\"Thì người ơi tôi đã sống rất tuyệt vời\\n\")\n",
    "file.write(\"...\\n\")\n",
    "\n",
    "file.close()"
   ]
  },
  {
   "cell_type": "markdown",
   "id": "0f2483fe",
   "metadata": {},
   "source": [
    "## Lab 7 - Bài 3"
   ]
  },
  {
   "cell_type": "code",
   "execution_count": 3,
   "id": "7034990b",
   "metadata": {},
   "outputs": [
    {
     "name": "stdout",
     "output_type": "stream",
     "text": [
      "\n",
      "--- Bài thơ thứ 1 ---\n",
      "\n",
      "--- Bài thơ thứ 2 ---\n",
      "\n",
      "--- Bài thơ thứ 3 ---\n",
      "\n",
      "--- Bài thơ thứ 4 ---\n",
      "\n",
      "--- Bài thơ thứ 5 ---\n",
      "\n",
      " Đã lưu thông tin 5 sinh viên vào file 'baitho.csv' thành công!\n"
     ]
    }
   ],
   "source": [
    "# Nhập tên file CSV\n",
    "filename = input(\"Nhập tên file .csv: \")\n",
    "\n",
    "# Mở file ở chế độ ghi (w = ghi mới)\n",
    "with open(filename, \"w\", encoding=\"utf-8\") as f:\n",
    "    # Ghi dòng tiêu đề (header)\n",
    "    f.write(\"Tieu de, tac gia, nam sang tac\\n\")\n",
    "\n",
    "\n",
    "    # Ghi từng sinh viên\n",
    "    for i in range(5):\n",
    "        print(f\"\\n--- Bài thơ thứ {i+1} ---\")\n",
    "        tieude = input(\"Tieu de: \")\n",
    "        tacgia = input(\"Tác giả: \")\n",
    "        namsangtac = input(\"Năm sáng tác: \")\n",
    "\n",
    "        # Ghi một dòng vào file bằng f-string\n",
    "        line = f\"{tieude},{tacgia},{namsangtac}\\n\"\n",
    "        f.write(line)\n",
    "\n",
    "print(f\"\\n Đã lưu thông tin {5} sinh viên vào file '{filename}' thành công!\")"
   ]
  },
  {
   "cell_type": "markdown",
   "id": "d36ea3d3",
   "metadata": {},
   "source": [
    "## Lab 7 - Bài 4"
   ]
  },
  {
   "cell_type": "code",
   "execution_count": 6,
   "id": "4c707ec1",
   "metadata": {},
   "outputs": [
    {
     "name": "stdout",
     "output_type": "stream",
     "text": [
      "Đã hoàn thành việc ghi file XML.\n"
     ]
    }
   ],
   "source": [
    "\n",
    "# Mở file gốc để đọc\n",
    "with open(\"Resource.txt\", \"r\", encoding=\"utf-8\") as f:\n",
    "    lines = [line.strip() for line in f.readlines()]\n",
    "\n",
    "# Lấy tiêu đề và tác giả\n",
    "name = lines[0]\n",
    "author = lines[1]\n",
    "\n",
    "# Lấy nội dung thơ\n",
    "poem_lines = lines[2:]\n",
    "\n",
    "# Chia khổ thơ theo dòng trống\n",
    "sections = []\n",
    "section = []\n",
    "for line in poem_lines:\n",
    "    if line == \"\":\n",
    "        if section:\n",
    "            sections.append(\" \".join(section))\n",
    "            section = []\n",
    "    else:\n",
    "        section.append(line)\n",
    "if section:\n",
    "    sections.append(\" \".join(section))\n",
    "\n",
    "# Ghi file XML\n",
    "with open(\"Lab7-Exercise4.xml\", \"w\", encoding=\"utf-8\") as f:\n",
    "    f.write(\"<songs>\\n\")\n",
    "    f.write(\"  <song>\\n\")\n",
    "    f.write(f\"    <name>{name}</name>\\n\")\n",
    "    f.write(f\"    <author>{author}</author>\\n\")\n",
    "    for sec in sections:\n",
    "        f.write(f\"    <section>{sec}</section>\\n\")\n",
    "    f.write(\"  </song>\\n\")\n",
    "    f.write(\"</songs>\")\n",
    "\n",
    "print(\"Đã hoàn thành việc ghi file XML.\")\n"
   ]
  },
  {
   "cell_type": "markdown",
   "id": "e2b41d4a",
   "metadata": {},
   "source": [
    "## Lab 7 - Bài 5: bài tập làm thêm"
   ]
  },
  {
   "cell_type": "code",
   "execution_count": null,
   "id": "0e0172f7",
   "metadata": {},
   "outputs": [],
   "source": [
    "# code lab 7  bài làm thêm ở đây "
   ]
  }
 ],
 "metadata": {
  "kernelspec": {
   "display_name": "Python 3",
   "language": "python",
   "name": "python3"
  },
  "language_info": {
   "codemirror_mode": {
    "name": "ipython",
    "version": 3
   },
   "file_extension": ".py",
   "mimetype": "text/x-python",
   "name": "python",
   "nbconvert_exporter": "python",
   "pygments_lexer": "ipython3",
   "version": "3.13.8"
  }
 },
 "nbformat": 4,
 "nbformat_minor": 5
}
