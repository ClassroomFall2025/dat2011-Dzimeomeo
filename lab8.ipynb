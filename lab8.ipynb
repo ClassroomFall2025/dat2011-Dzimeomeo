{
 "cells": [
  {
   "cell_type": "markdown",
   "id": "fdeff819",
   "metadata": {},
   "source": [
    "# Sinh Viên thực hiện Lab 8 ở Đây"
   ]
  },
  {
   "cell_type": "markdown",
   "id": "acc5d7dc",
   "metadata": {},
   "source": [
    "## Lab 8 - Bài 1"
   ]
  },
  {
   "cell_type": "code",
   "execution_count": 12,
   "id": "001e0507",
   "metadata": {},
   "outputs": [
    {
     "name": "stderr",
     "output_type": "stream",
     "text": [
      "<>:7: SyntaxWarning: invalid escape sequence '\\s'\n",
      "<>:7: SyntaxWarning: invalid escape sequence '\\s'\n",
      "C:\\Users\\vyngu\\AppData\\Local\\Temp\\ipykernel_17556\\66582548.py:7: SyntaxWarning: invalid escape sequence '\\s'\n",
      "  x = re.split(\"\\s+\",txt)\n"
     ]
    },
    {
     "name": "stdout",
     "output_type": "stream",
     "text": [
      "Họ tên đã nhập:  NGUYEN DINH MAI VY\n",
      "Họ: NGUYEN\n",
      "Tên đệm: DINH MAI\n",
      "Tên: VY\n"
     ]
    }
   ],
   "source": [
    "import re\n",
    "\n",
    "ho_ten = input(\"Nhập họ tên: \")\n",
    "print (\"Họ tên đã nhập: \",ho_ten.upper())\n",
    "\n",
    "txt = ho_ten\n",
    "x = re.split(\"\\s+\",txt)\n",
    "\n",
    "if len(x) >= 2:\n",
    "    ho = x[0].upper()\n",
    "    ten = x[-1].upper()\n",
    "    ten_dem = \" \".join(x[1:-1]).upper()\n",
    "else:\n",
    "    ho = x[0].upper()\n",
    "    ten = \"\"\n",
    "    ten_dem = \"\"\n",
    "\n",
    "print(f\"Họ: {ho}\")\n",
    "print(f\"Tên đệm: {ten_dem}\")\n",
    "print(f\"Tên: {ten}\")\n"
   ]
  },
  {
   "cell_type": "markdown",
   "id": "c0835310",
   "metadata": {},
   "source": [
    "## Lab 8 - Bài 2"
   ]
  },
  {
   "cell_type": "code",
   "execution_count": null,
   "id": "fa9cb39f",
   "metadata": {},
   "outputs": [
    {
     "name": "stdout",
     "output_type": "stream",
     "text": [
      "\n",
      "Thông tin sinh viên:\n",
      "Họ tên: nguyen dinh mai vy\n",
      "Email: vydinh06002@gmail.com\n",
      "SĐT: 0984755287\n",
      "CMND: 079304017599\n"
     ]
    }
   ],
   "source": [
    "import re\n",
    "\n",
    "sv = {\n",
    "    \"Họ tên\": input(\"Nhập họ tên: \").strip(),\n",
    "    \"Email\": input(\"Nhập email: \").strip(),\n",
    "    \"SĐT\": input(\"Nhập số điện thoại: \").strip(),\n",
    "    \"CMND\": input(\"Nhập số CMND: \").strip()\n",
    "}\n",
    "\n",
    "# Biểu thức chính quy\n",
    "email_re = r'^[\\w\\.-]+@[\\w\\.-]+\\.\\w+$'\n",
    "sdt_re = r'^0\\d{9}$'\n",
    "cmnd_re = r'^\\d{9,12}$'\n",
    "\n",
    "# Kiểm tra định dạng\n",
    "if not re.match(email_re, sv[\"Email\"]):\n",
    "    print(\"Lỗi: Email không đúng định dạng.\")\n",
    "if not re.match(sdt_re, sv[\"SĐT\"]):\n",
    "    print(\"Lỗi: Số điện thoại không đúng định dạng.\")\n",
    "if not re.match(cmnd_re, sv[\"CMND\"]):\n",
    "    print(\"Lỗi: CMND không đúng định dạng\")\n",
    "\n",
    "# Xuất thông tin sinh viên\n",
    "print(\"\\nThông tin sinh viên:\")\n",
    "for k, v in sv.items():\n",
    "    print(f\"{k}: {v}\")\n"
   ]
  },
  {
   "cell_type": "markdown",
   "id": "0f2483fe",
   "metadata": {},
   "source": [
    "## Lab 8 - Bài 3"
   ]
  },
  {
   "cell_type": "code",
   "execution_count": 1,
   "id": "7034990b",
   "metadata": {},
   "outputs": [
    {
     "name": "stdout",
     "output_type": "stream",
     "text": [
      "Đã ghi 1 triệu số ngẫu nhiên vào file 'so_ngau_nhien.txt'\n"
     ]
    }
   ],
   "source": [
    "import random\n",
    "\n",
    "with open(\"so_ngau_nhien.txt\", \"w\") as f:\n",
    "    for _ in range(1_000_000):\n",
    "        so = random.randint(0, 100)\n",
    "        f.write(str(so) + \" \")\n",
    "print(\"Đã ghi 1 triệu số ngẫu nhiên vào file 'so_ngau_nhien.txt'\")"
   ]
  },
  {
   "cell_type": "markdown",
   "id": "d36ea3d3",
   "metadata": {},
   "source": [
    "## Lab 8 - Bài 4"
   ]
  },
  {
   "cell_type": "code",
   "execution_count": 2,
   "id": "4c707ec1",
   "metadata": {},
   "outputs": [
    {
     "name": "stdout",
     "output_type": "stream",
     "text": [
      "Giá trị trung bình: 49.973845\n",
      "Độ lệch chuẩn: 29.15019277208495\n"
     ]
    }
   ],
   "source": [
    "import statistics\n",
    "\n",
    "with open(\"so_ngau_nhien.txt\", \"r\") as f:\n",
    "    data = list(map(int, f.read().split()))\n",
    "\n",
    "mean_val = statistics.mean(data)\n",
    "std_dev = statistics.stdev(data)\n",
    "\n",
    "print(\"Giá trị trung bình:\", mean_val)\n",
    "print(\"Độ lệch chuẩn:\", std_dev)"
   ]
  },
  {
   "cell_type": "markdown",
   "id": "e2b41d4a",
   "metadata": {},
   "source": [
    "## Lab 8 - Bài 5: bài tập làm thêm"
   ]
  },
  {
   "cell_type": "code",
   "execution_count": null,
   "id": "0e0172f7",
   "metadata": {},
   "outputs": [],
   "source": [
    "# code lab 8  bài làm thêm ở đây "
   ]
  }
 ],
 "metadata": {
  "kernelspec": {
   "display_name": "Python 3",
   "language": "python",
   "name": "python3"
  },
  "language_info": {
   "codemirror_mode": {
    "name": "ipython",
    "version": 3
   },
   "file_extension": ".py",
   "mimetype": "text/x-python",
   "name": "python",
   "nbconvert_exporter": "python",
   "pygments_lexer": "ipython3",
   "version": "3.13.8"
  }
 },
 "nbformat": 4,
 "nbformat_minor": 5
}
