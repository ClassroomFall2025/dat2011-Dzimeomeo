{
 "cells": [
  {
   "cell_type": "markdown",
   "id": "fdeff819",
   "metadata": {},
   "source": [
    "# Sinh Viên thực hiện Lab 6 ở Đây"
   ]
  },
  {
   "cell_type": "markdown",
   "id": "acc5d7dc",
   "metadata": {},
   "source": [
    "## Lab 6 - Bài 1"
   ]
  },
  {
   "cell_type": "code",
   "execution_count": 3,
   "id": "001e0507",
   "metadata": {},
   "outputs": [
    {
     "name": "stdout",
     "output_type": "stream",
     "text": [
      "THÔNG TIN HÌNH CHỮ NHẬT & HÌNH VUÔNG\n",
      "Chiều dài: 4, Chiều rộng: 5\n",
      "Diện tích: 20, Chu vi: 18\n",
      "----------------------------------------\n",
      "Chiều dài: 3, Chiều rộng: 7\n",
      "Diện tích: 21, Chu vi: 20\n",
      "----------------------------------------\n",
      "Cạnh: 6\n",
      "Diện tích: 36, Chu vi: 24\n",
      "----------------------------------------\n"
     ]
    }
   ],
   "source": [
    "class ChuNhat:\n",
    "    def __init__(self, dai, rong):\n",
    "        self.dai = dai\n",
    "        self.rong = rong\n",
    "\n",
    "    def get_chu_vi(self):\n",
    "        return (self.dai + self.rong) * 2\n",
    "\n",
    "    def get_dien_tich(self):\n",
    "        return self.dai * self.rong\n",
    "\n",
    "    def xuat(self):\n",
    "        print(f\"Chiều dài: {self.dai}, Chiều rộng: {self.rong}\")\n",
    "        print(f\"Diện tích: {self.get_dien_tich()}, Chu vi: {self.get_chu_vi()}\")\n",
    "        print(\"-\" * 40)\n",
    "\n",
    "class Vuong(ChuNhat):\n",
    "    def __init__(self, canh):\n",
    "        super().__init__(canh, canh)\n",
    "\n",
    "    def xuat(self):\n",
    "        print(f\"Cạnh: {self.dai}\")\n",
    "        print(f\"Diện tích: {self.get_dien_tich()}, Chu vi: {self.get_chu_vi()}\")\n",
    "        print(\"-\" * 40)\n",
    "\n",
    "# Chương trình chính\n",
    "cn1 = ChuNhat(4, 5)\n",
    "cn2 = ChuNhat(3, 7)\n",
    "vu1 = Vuong(6)\n",
    "\n",
    "print(\"THÔNG TIN HÌNH CHỮ NHẬT & HÌNH VUÔNG\")\n",
    "cn1.xuat()\n",
    "cn2.xuat()\n",
    "vu1.xuat()\n"
   ]
  },
  {
   "cell_type": "markdown",
   "id": "c0835310",
   "metadata": {},
   "source": [
    "## Lab 6 - Bài 2"
   ]
  },
  {
   "cell_type": "code",
   "execution_count": 6,
   "id": "fa9cb39f",
   "metadata": {},
   "outputs": [
    {
     "ename": "NameError",
     "evalue": "name 'QuanLySinhVien' is not defined",
     "output_type": "error",
     "traceback": [
      "\u001b[31m---------------------------------------------------------------------------\u001b[39m",
      "\u001b[31mNameError\u001b[39m                                 Traceback (most recent call last)",
      "\u001b[36mCell\u001b[39m\u001b[36m \u001b[39m\u001b[32mIn[6]\u001b[39m\u001b[32m, line 6\u001b[39m\n\u001b[32m      3\u001b[39m \u001b[38;5;28;01mfrom\u001b[39;00m\u001b[38;5;250m \u001b[39m\u001b[34;01msinhvienpoly\u001b[39;00m\u001b[38;5;250m \u001b[39m\u001b[38;5;28;01mimport\u001b[39;00m *\n\u001b[32m      4\u001b[39m \u001b[38;5;28;01mfrom\u001b[39;00m\u001b[38;5;250m \u001b[39m\u001b[34;01mquanlysinhvien\u001b[39;00m\u001b[38;5;250m \u001b[39m\u001b[38;5;28;01mimport\u001b[39;00m *\n\u001b[32m----> \u001b[39m\u001b[32m6\u001b[39m qlsv = \u001b[43mQuanLySinhVien\u001b[49m()\n\u001b[32m      8\u001b[39m menu = {\n\u001b[32m      9\u001b[39m     \u001b[33m\"\u001b[39m\u001b[33m1\u001b[39m\u001b[33m\"\u001b[39m: \u001b[33m\"\u001b[39m\u001b[33mNhập danh sách sinh viên\u001b[39m\u001b[33m\"\u001b[39m,\n\u001b[32m     10\u001b[39m     \u001b[33m\"\u001b[39m\u001b[33m2\u001b[39m\u001b[33m\"\u001b[39m: \u001b[33m\"\u001b[39m\u001b[33mXuất thông tin danh sách sinh viên\u001b[39m\u001b[33m\"\u001b[39m,\n\u001b[32m   (...)\u001b[39m\u001b[32m     13\u001b[39m     \u001b[33m\"\u001b[39m\u001b[33m5\u001b[39m\u001b[33m\"\u001b[39m: \u001b[33m\"\u001b[39m\u001b[33mKết thúc\u001b[39m\u001b[33m\"\u001b[39m\n\u001b[32m     14\u001b[39m }\n\u001b[32m     16\u001b[39m \u001b[38;5;28;01mwhile\u001b[39;00m \u001b[38;5;28;01mTrue\u001b[39;00m:\n",
      "\u001b[31mNameError\u001b[39m: name 'QuanLySinhVien' is not defined"
     ]
    }
   ],
   "source": [
    "#MENU QUẢN LÝ \n",
    "\n",
    "from sinhvienpoly import *\n",
    "from quanlysinhvien import *\n",
    "\n",
    "qlsv = QuanLySinhVien()\n",
    "\n",
    "menu = {\n",
    "    \"1\": \"Nhập danh sách sinh viên\",\n",
    "    \"2\": \"Xuất thông tin danh sách sinh viên\",\n",
    "    \"3\": \"Xuất danh sách sinh viên có học lực giỏi\",\n",
    "    \"4\": \"Sắp xếp danh sách sinh viên theo điểm\",\n",
    "    \"5\": \"Kết thúc\"\n",
    "}\n",
    "\n",
    "while True:\n",
    "    print(\"===\" * 10 + \"MENU\" + \"===\" * 10)\n",
    "    for k, v in menu.items():\n",
    "        print(f\"{k} : {v}\")\n",
    "    print(\"===\" * 10 + \"====\" + \"===\" * 10)\n",
    "    print(\"Lựa chọn Chức năng Chương trình\")\n",
    "\n",
    "    lua_chon = input(\"Nhập chức năng chương trình!: \")\n",
    "\n",
    "    match lua_chon:\n",
    "        case \"5\":\n",
    "            print(\"Kết thúc chương trình\")\n",
    "            break\n",
    "        case \"1\":\n",
    "            qlsv.nhap_dssv()\n",
    "        case \"2\":\n",
    "            qlsv.xuat_dssv()\n",
    "        case \"3\":\n",
    "            qlsv.xuat_dssv_gioi()\n",
    "        case \"4\":\n",
    "            qlsv.xuat_dssv_diem()\n",
    "        case _:\n",
    "            print(\" Chức năng không hợp lệ, vui lòng chọn lại!\")\n"
   ]
  },
  {
   "cell_type": "markdown",
   "id": "0f2483fe",
   "metadata": {},
   "source": [
    "## Lab 6 - Bài 3"
   ]
  },
  {
   "cell_type": "code",
   "execution_count": null,
   "id": "7034990b",
   "metadata": {},
   "outputs": [],
   "source": [
    "# Code lab 6  bài 3 ở đây"
   ]
  },
  {
   "cell_type": "markdown",
   "id": "d36ea3d3",
   "metadata": {},
   "source": [
    "## Lab 6 - Bài 4"
   ]
  },
  {
   "cell_type": "code",
   "execution_count": null,
   "id": "4c707ec1",
   "metadata": {},
   "outputs": [],
   "source": [
    "# code lab 6 bài 4 ở đây"
   ]
  },
  {
   "cell_type": "markdown",
   "id": "e2b41d4a",
   "metadata": {},
   "source": [
    "## Lab 6 - Bài 5: bài tập làm thêm"
   ]
  },
  {
   "cell_type": "code",
   "execution_count": null,
   "id": "0e0172f7",
   "metadata": {},
   "outputs": [],
   "source": [
    "# code lab 6  bài làm thêm ở đây "
   ]
  }
 ],
 "metadata": {
  "kernelspec": {
   "display_name": "Python 3",
   "language": "python",
   "name": "python3"
  },
  "language_info": {
   "codemirror_mode": {
    "name": "ipython",
    "version": 3
   },
   "file_extension": ".py",
   "mimetype": "text/x-python",
   "name": "python",
   "nbconvert_exporter": "python",
   "pygments_lexer": "ipython3",
   "version": "3.13.8"
  }
 },
 "nbformat": 4,
 "nbformat_minor": 5
}
