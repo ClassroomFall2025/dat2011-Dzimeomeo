{
 "cells": [
  {
   "cell_type": "markdown",
   "id": "fdeff819",
   "metadata": {},
   "source": [
    "# Sinh Viên thực hiện Lab 5 ở Đây"
   ]
  },
  {
   "cell_type": "markdown",
   "id": "acc5d7dc",
   "metadata": {},
   "source": [
    "## Lab 5 - Bài 1"
   ]
  },
  {
   "cell_type": "code",
   "execution_count": 7,
   "id": "001e0507",
   "metadata": {},
   "outputs": [
    {
     "name": "stdout",
     "output_type": "stream",
     "text": [
      "Nhập thông tin sản phẩm: \n",
      "Tên sản phẩm: iphone có giá 10000000 VNĐ, giảm giá 1000%, thuế nhập khẩu: 1000000.0 VNĐ,tổng thanh toán: -89000000.0 VNĐ\n"
     ]
    }
   ],
   "source": [
    "from lab5_module import SanPham\n",
    "\n",
    "print(\"Nhập thông tin sản phẩm: \")\n",
    "sp1 = SanPham(\"iphone\", 10000000, 10)\n",
    "sp1.xuat_san_pham()"
   ]
  },
  {
   "cell_type": "markdown",
   "id": "c0835310",
   "metadata": {},
   "source": [
    "## Lab 5 - Bài 2"
   ]
  },
  {
   "cell_type": "code",
   "execution_count": 11,
   "id": "fa9cb39f",
   "metadata": {},
   "outputs": [
    {
     "name": "stdout",
     "output_type": "stream",
     "text": [
      "Nhập thông tin sản phẩm 1:\n",
      "Nhập thông tin sản phẩm 2:\n",
      "\n",
      "Thông tin sản phẩm 1:\n",
      "Tên sản phẩm: ip17 có giá 35000000.0 VNĐ, giảm giá 20.0%, thuế nhập khẩu: 3500000.0 VNĐ,tổng thanh toán: 31500000.0 VNĐ\n",
      "\n",
      "Thông tin sản phẩm 2:\n",
      "Tên sản phẩm: ip11 có giá 15000000.0 VNĐ, giảm giá 23.0%, thuế nhập khẩu: 1500000.0 VNĐ,tổng thanh toán: 13050000.0 VNĐ\n"
     ]
    }
   ],
   "source": [
    "from lab5_module import SanPham\n",
    "\n",
    "sp1 = SanPham(\"\",0,0)\n",
    "sp2 = SanPham(\"\",0,0)\n",
    "\n",
    "print(\"Nhập thông tin sản phẩm 1:\")\n",
    "sp1.nhap_san_pham()\n",
    "print(\"Nhập thông tin sản phẩm 2:\")\n",
    "sp2.nhap_san_pham()\n",
    "\n",
    "print(\"\\nThông tin sản phẩm 1:\")\n",
    "sp1.xuat_san_pham()\n",
    "print(\"\\nThông tin sản phẩm 2:\")\n",
    "sp2.xuat_san_pham()\n",
    "\n"
   ]
  },
  {
   "cell_type": "markdown",
   "id": "0f2483fe",
   "metadata": {},
   "source": [
    "## Lab 5 - Bài 3"
   ]
  },
  {
   "cell_type": "code",
   "execution_count": null,
   "id": "7034990b",
   "metadata": {},
   "outputs": [],
   "source": [
    "# Code lab 5  bài 3 ở đây"
   ]
  },
  {
   "cell_type": "markdown",
   "id": "d36ea3d3",
   "metadata": {},
   "source": [
    "## Lab 5 - Bài 4"
   ]
  },
  {
   "cell_type": "code",
   "execution_count": 10,
   "id": "4c707ec1",
   "metadata": {},
   "outputs": [
    {
     "name": "stdout",
     "output_type": "stream",
     "text": [
      "Nhập thông tin sản phẩm 1:\n",
      "\n",
      "Nhập thông tin sản phẩm 2:\n",
      "\n",
      "--- THÔNG TIN SẢN PHẨM ---\n",
      "Tên sản phẩm: ip17 có giá 56000000.0 VNĐ, giảm giá 12.0%, thuế nhập khẩu: 5600000.0 VNĐ,tổng thanh toán: 54880000.0 VNĐ\n",
      "Tên sản phẩm: ip17 có giá 7000000.0 VNĐ, giảm giá 5.0%, thuế nhập khẩu: 700000.0 VNĐ,tổng thanh toán: 7350000.0 VNĐ\n"
     ]
    }
   ],
   "source": [
    "print(\"Nhập thông tin sản phẩm 1:\")\n",
    "ten1 = input(\"Tên sản phẩm: \")\n",
    "gia1 = float(input(\"Giá: \"))\n",
    "giam1 = float(input(\"Giảm giá (0-100): \")) / 100\n",
    "\n",
    "print(\"\\nNhập thông tin sản phẩm 2:\")\n",
    "ten2 = input(\"Tên sản phẩm: \")\n",
    "gia2 = float(input(\"Giá: \"))\n",
    "giam2 = float(input(\"Giảm giá (0-100): \")) / 100\n",
    "\n",
    "# Tạo 2 đối tượng sản phẩm bằng hàm tạo\n",
    "sp1 = SanPham(ten1, gia1, giam1)\n",
    "sp2 = SanPham(ten2, gia2, giam2)\n",
    "\n",
    "print(\"\\n--- THÔNG TIN SẢN PHẨM ---\")\n",
    "sp1.xuat_san_pham()\n",
    "sp2.xuat_san_pham()"
   ]
  },
  {
   "cell_type": "markdown",
   "id": "e2b41d4a",
   "metadata": {},
   "source": [
    "## Lab 5 - Bài 5: bài tập làm thêm"
   ]
  },
  {
   "cell_type": "code",
   "execution_count": null,
   "id": "0e0172f7",
   "metadata": {},
   "outputs": [],
   "source": [
    "# code lab 5  bài làm thêm ở đây "
   ]
  }
 ],
 "metadata": {
  "kernelspec": {
   "display_name": "Python 3",
   "language": "python",
   "name": "python3"
  },
  "language_info": {
   "codemirror_mode": {
    "name": "ipython",
    "version": 3
   },
   "file_extension": ".py",
   "mimetype": "text/x-python",
   "name": "python",
   "nbconvert_exporter": "python",
   "pygments_lexer": "ipython3",
   "version": "3.13.7"
  }
 },
 "nbformat": 4,
 "nbformat_minor": 5
}
