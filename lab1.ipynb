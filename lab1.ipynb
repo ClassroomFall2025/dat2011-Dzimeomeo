{
 "cells": [
  {
   "cell_type": "markdown",
   "id": "fdeff819",
   "metadata": {},
   "source": [
    "# Sinh Viên thực hiện Lab 1 ở Đây"
   ]
  },
  {
   "cell_type": "markdown",
   "id": "acc5d7dc",
   "metadata": {},
   "source": [
    "## Lab 1 - Bài 1"
   ]
  },
  {
   "cell_type": "code",
   "execution_count": 2,
   "id": "001e0507",
   "metadata": {},
   "outputs": [
    {
     "name": "stdout",
     "output_type": "stream",
     "text": [
      "Xin chao!\n",
      "toi la Mai Vy\n",
      "toi den tu TPHCM\n"
     ]
    }
   ],
   "source": [
    "print(\"Xin chao!\")\n",
    "print(\"toi la Mai Vy\")\n",
    "print(\"toi den tu TPHCM\")"
   ]
  },
  {
   "cell_type": "markdown",
   "id": "c0835310",
   "metadata": {},
   "source": [
    "## Lab 1 - Bài 2"
   ]
  },
  {
   "cell_type": "code",
   "execution_count": 1,
   "id": "fa9cb39f",
   "metadata": {},
   "outputs": [
    {
     "name": "stdout",
     "output_type": "stream",
     "text": [
      "Dien tich hinh chu nhat la:  50.0\n",
      "Chu vi hinh chu nhat la:  30.0\n"
     ]
    }
   ],
   "source": [
    "chieudai = float(input(\"Nhap chieu dai: \"))\n",
    "chieurong = float(input(\"Nhap chieu rong: \"))\n",
    "\n",
    "dientich = chieudai * chieurong\n",
    "chuvi = (chieudai + chieurong) * 2\n",
    "\n",
    "print(\"Dien tich hinh chu nhat la: \", dientich)\n",
    "print(\"Chu vi hinh chu nhat la: \", chuvi)"
   ]
  },
  {
   "cell_type": "markdown",
   "id": "0f2483fe",
   "metadata": {},
   "source": [
    "## Lab 1 - Bài 3"
   ]
  },
  {
   "cell_type": "code",
   "execution_count": 9,
   "id": "7034990b",
   "metadata": {},
   "outputs": [
    {
     "name": "stdout",
     "output_type": "stream",
     "text": [
      "\"... \n",
      "Sống không giận, không hờn, không oán trách\n",
      "Sống mỉm cười, với thử thách chông gai \n",
      "Sống vươn lên, theo kịp ánh ban mai\n",
      "Sống chan hòa, với những người chung sống\n",
      "\n",
      "Sống là động, nhưng lòng luôn bất động\n",
      "Sống là thương, nhưng lòng chẳng vấn vương\n",
      "Sống yên vui, danh lợi mãi coi thường\n",
      "Tâm bất biến giữa dòng đời vạn biến.\n",
      "...\" \n"
     ]
    }
   ],
   "source": [
    "song = \"Sống\"\n",
    "print('\"... ')\n",
    "print(f\"{song} không giận, không hờn, không oán trách\")\n",
    "print(f\"{song} mỉm cười, với thử thách chông gai \")\n",
    "print(f\"{song} vươn lên, theo kịp ánh ban mai\")\n",
    "print(f\"{song} chan hòa, với những người chung sống\")\n",
    "\n",
    "print( )\n",
    "\n",
    "print(f\"{song} là động, nhưng lòng luôn bất động\")\n",
    "print(f\"{song} là thương, nhưng lòng chẳng vấn vương\")\n",
    "print(f\"{song} yên vui, danh lợi mãi coi thường\")    \n",
    "print(\"Tâm bất biến giữa dòng đời vạn biến.\")\n",
    "print('...\" ')\n"
   ]
  },
  {
   "cell_type": "markdown",
   "id": "d36ea3d3",
   "metadata": {},
   "source": [
    "## Lab 1 - Bài 4"
   ]
  },
  {
   "cell_type": "code",
   "execution_count": 2,
   "id": "4c707ec1",
   "metadata": {},
   "outputs": [
    {
     "name": "stdout",
     "output_type": "stream",
     "text": [
      "Delta =  -59.0\n",
      "Phuong trinh vo nghiem\n"
     ]
    }
   ],
   "source": [
    "import math\n",
    "a = float(input(\"Nhap so a: \"))\n",
    "b = float(input(\"Nhap so b: \")) \n",
    "c = float(input(\"Nhap so c: \"))\n",
    "\n",
    "delta = b**2 - 4*a*c\n",
    "print(\"Delta = \", delta)\n",
    "\n",
    "if delta < 0:\n",
    "    print(\"Phuong trinh vo nghiem\") \n",
    "elif delta == 0:\n",
    "    x = -b / (2*a)\n",
    "    print(\"Phuong trinh co nghiem kep x1 = x2 = \", x)\n",
    "else:\n",
    "    x1 = (-b + math.sqrt(delta)) / (2*a)\n",
    "    x2 = (-b - math.sqrt(delta)) / (2*a)\n",
    "    print(\"Phuong trinh co 2 nghiem phan biet: \")\n",
    "    print(\"x1 = \", x1)\n",
    "    print(\"x2 = \", x2)   "
   ]
  },
  {
   "cell_type": "markdown",
   "id": "e2b41d4a",
   "metadata": {},
   "source": [
    "## Lab 1 - Bài 5: bài tập làm thêm"
   ]
  },
  {
   "cell_type": "code",
   "execution_count": null,
   "id": "0e0172f7",
   "metadata": {},
   "outputs": [
    {
     "name": "stdout",
     "output_type": "stream",
     "text": [
      "Cộng: 4.0\n",
      "Trừ: -2.0\n",
      "Nhân: 3.0\n",
      "Chia: 0.3333333333333333\n",
      "Lũy thừa x^y: 25.0\n",
      "Căn bậc hai của n: 5.477225575051661\n",
      "sin(goc): -0.5365729180004349\n",
      "cos(goc): 0.8438539587324921\n",
      "tan(goc): -0.6358599286615808\n",
      "log10(so): 0.47712125471966244\n",
      "ln(so): 1.0986122886681098\n",
      "log cơ số 4.0 của 3.0 = 0.7924812503605781\n"
     ]
    }
   ],
   "source": [
    "import math\n",
    "\n",
    "# 1. Phép tính cơ bản\n",
    "a = float(input(\"Nhập số a: \"))\n",
    "b = float(input(\"Nhập số b: \"))\n",
    "print(\"Cộng:\", a + b)\n",
    "print(\"Trừ:\", a - b)\n",
    "print(\"Nhân:\", a * b)\n",
    "print(\"Chia:\", a / b)\n",
    "\n",
    "# 2. Lũy thừa\n",
    "x = float(input(\"Nhập x: \"))\n",
    "y = float(input(\"Nhập y: \"))\n",
    "print(\"Lũy thừa x^y:\", math.pow(x, y))\n",
    "\n",
    "# 3. Căn bậc hai\n",
    "n = float(input(\"Nhập số n: \"))\n",
    "print(\"Căn bậc hai của n:\", math.sqrt(n))\n",
    "\n",
    "# 4. Hàm lượng giác\n",
    "goc = float(input(\"Nhập góc (theo radian): \"))\n",
    "print(\"sin(goc):\", math.sin(goc))\n",
    "print(\"cos(goc):\", math.cos(goc))\n",
    "print(\"tan(goc):\", math.tan(goc))\n",
    "\n",
    "# 5. Logarit\n",
    "so = float(input(\"Nhập số > 0: \"))\n",
    "print(\"log10(so):\", math.log10(so))   # log cơ số 10\n",
    "print(\"ln(so):\", math.log(so))        # log tự nhiên (cơ số e)\n",
    "co_so = float(input(\"Nhập cơ số log: \"))\n",
    "print(\"log cơ số\", co_so, \"của\", so, \"=\", math.log(so, co_so))"
   ]
  }
 ],
 "metadata": {
  "kernelspec": {
   "display_name": "Python 3",
   "language": "python",
   "name": "python3"
  },
  "language_info": {
   "codemirror_mode": {
    "name": "ipython",
    "version": 3
   },
   "file_extension": ".py",
   "mimetype": "text/x-python",
   "name": "python",
   "nbconvert_exporter": "python",
   "pygments_lexer": "ipython3",
   "version": "3.13.7"
  }
 },
 "nbformat": 4,
 "nbformat_minor": 5
}
